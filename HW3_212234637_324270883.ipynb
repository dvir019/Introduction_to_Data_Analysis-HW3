{
 "cells": [
  {
   "cell_type": "markdown",
   "metadata": {},
   "source": [
    "# Introduction to Data Analasys\n",
    "## HW 3\n",
    "##### Presenters:\n",
    "Roi Maskalik, 212234637 <br>\n",
    "Dvir Twito, 324270883"
   ]
  },
  {
   "cell_type": "code",
   "execution_count": 1,
   "metadata": {},
   "outputs": [],
   "source": [
    "import pandas as pd\n",
    "import seaborn as sns\n",
    "import numpy as np\n",
    "import matplotlib.pyplot as plt\n",
    "hw_df = pd.read_csv('HW3_Data.csv')"
   ]
  },
  {
   "cell_type": "markdown",
   "metadata": {},
   "source": [
    "### Question 1\n",
    "**Null hypothesis -** the communities served by the two public schools in this dataset come from a simple random sample of the Portugal population.<br>\n",
    "**Alternative hypothesis -** the communities served by the two public schools in this dataset do not come from a simple random sample of the Portugal population.<br>\n",
    "**Test statisic -** The probability that a citizen in Portugal which was eligible for study in public schools in 2005 had internet access at home.\n",
    "\n",
    "We will run simulations according to the assumption of our model which is:<br>\n",
    "0.81 of the population in Portugal which was eligible for study in public schools in 2005 had internet access at home. <br>\n",
    "we will check if our test statistic from our observed data is consistent with the distribution of the statistic from our model."
   ]
  },
  {
   "cell_type": "code",
   "execution_count": 8,
   "metadata": {},
   "outputs": [
    {
     "name": "stdout",
     "output_type": "stream",
     "text": [
      "the statistic value of out observed data is  0.7921455938697318\n"
     ]
    },
    {
     "data": {
      "image/png": "[encoded data removed]",
      "text/plain": [
       "<Figure size 432x288 with 1 Axes>"
      ]
     },
     "metadata": {
      "needs_background": "light"
     },
     "output_type": "display_data"
    }
   ],
   "source": [
    "#first, we will calculate the statistic\n",
    "question1_statistic = hw_df['internet'].apply(lambda x: 1 if x =='yes' else 0).mean()\n",
    "print('the statistic value of out observed data is ', question1_statistic)\n",
    "\n",
    "internet_status = ['has_internet', \"doesn't have internet\"] #possible options for having internet connection\n",
    "prob_for_internet = [0.81, 0.19] # probabilities GIVEN THE MODEL IS TRUE\n",
    "sample_size = hw_df.shape[0] #the size of our sample should be equal to the size of our dataset\n",
    "\n",
    "#simulate one value of the distrubution of internet access\n",
    "def prob_has_internet():\n",
    "    sample_internet = np.random.choice(internet_status, p = prob_for_internet, size = sample_size)\n",
    "    num_has_internet = np.count_nonzero(sample_internet == 'has_internet')\n",
    "    return num_has_internet / sample_size\n",
    "\n",
    "#run multiple simulations and return an array that contains the data of the simulations\n",
    "def run_internet_simulations(num_simulations):\n",
    "    many_prob_internet = np.empty(num_simulations)\n",
    "    for i in range(num_simulations):\n",
    "        many_prob_internet[i] = prob_has_internet()\n",
    "    return many_prob_internet\n",
    "\n",
    "num_simulations = 10000\n",
    "many_prob_internet = run_internet_simulations(num_simulations)\n",
    "ax = sns.distplot(many_prob_internet, kde=False, norm_hist=True)\n",
    "ax.set(xlabel='probability to have internet connection', ylabel='relative proportion in simulations (%)')\n",
    "plt.scatter(question1_statistic, 0, marker='o', s=30, color='red')  # draw observed value\n",
    "plt.show()"
   ]
  },
  {
   "cell_type": "code",
   "execution_count": 9,
   "metadata": {},
   "outputs": [
    {
     "name": "stdout",
     "output_type": "stream",
     "text": [
      "Our p-value is :  0.0773\n"
     ]
    }
   ],
   "source": [
    "num_simulations_like_question1_statistic_or_more_extreme = np.count_nonzero(many_prob_internet <= question1_statistic)\n",
    "print('Our p-value is : ', num_simulations_like_question1_statistic_or_more_extreme/num_simulations)"
   ]
  },
  {
   "cell_type": "markdown",
   "metadata": {},
   "source": [
    "Our p-value is higher than the required significance level which is 0.05, thus we can not reject the null hypothesis."
   ]
  },
  {
   "cell_type": "markdown",
   "metadata": {},
   "source": [
    "### Question 2\n",
    "**Null hypothesis -** The distribution of the reason for choosing 'Gabriel Pereira' school (excluding ’other’) is uniform.<br>\n",
    "**Alternative hypothesis -** The distribution of the reason for choosing 'Gabriel Pereira' school (excluding ’other’) is not uniform, and there are more reasons which are more common then others.<br>\n",
    "**Test statisic -** The number of students that chose each reason in the dataset."
   ]
  },
  {
   "cell_type": "code",
   "execution_count": 175,
   "metadata": {},
   "outputs": [],
   "source": [
    "def run_reasons_simulation(reasons, sample_size):\n",
    "    simulation_reasons = np.random.choice(reasons, size = sample_size)  # Assume uniform distribution\n",
    "    reasons_count = pd.Series(simulation_reasons).value_counts()\n",
    "#     print(reasons_count)\n",
    "    reasons_ratio = reasons_count / sample_size\n",
    "    return reasons_ratio\n",
    "    "
   ]
  },
  {
   "cell_type": "code",
   "execution_count": 176,
   "metadata": {},
   "outputs": [],
   "source": [
    "def run_reasons_simulations(reasons, num_simulations, sample_size):\n",
    "    simulations_results = np.empty((num_simulations, len(reasons)))\n",
    "    for simulation in np.arange(num_simulations):\n",
    "        simulations_results[simulation] = run_reasons_simulation(reasons, sample_size)\n",
    "    return simulations_results"
   ]
  },
  {
   "cell_type": "code",
   "execution_count": 177,
   "metadata": {},
   "outputs": [
    {
     "name": "stdout",
     "output_type": "stream",
     "text": [
      "[[0.35654596 0.33844011 0.30501393]\n",
      " [0.35097493 0.34958217 0.2994429 ]\n",
      " [0.33844011 0.33704735 0.32451253]\n",
      " [0.36629526 0.32172702 0.31197772]\n",
      " [0.35376045 0.33286908 0.31337047]\n",
      " [0.37047354 0.31615599 0.31337047]\n",
      " [0.35654596 0.34679666 0.29665738]\n",
      " [0.33844011 0.3356546  0.32590529]\n",
      " [0.3551532  0.32590529 0.3189415 ]\n",
      " [0.34679666 0.34679666 0.30640669]\n",
      " [0.35376045 0.33983287 0.30640669]\n",
      " [0.35933148 0.33704735 0.30362117]\n",
      " [0.34818942 0.32729805 0.32451253]\n",
      " [0.34401114 0.33286908 0.32311978]\n",
      " [0.38440111 0.31615599 0.2994429 ]\n",
      " [0.33983287 0.33286908 0.32729805]\n",
      " [0.35376045 0.34122563 0.30501393]\n",
      " [0.34818942 0.32869081 0.32311978]\n",
      " [0.34122563 0.33983287 0.3189415 ]\n",
      " [0.37047354 0.33008357 0.2994429 ]\n",
      " [0.33426184 0.33286908 0.33286908]\n",
      " [0.34679666 0.33286908 0.32033426]\n",
      " [0.34679666 0.34401114 0.3091922 ]\n",
      " [0.35793872 0.32172702 0.32033426]\n",
      " [0.34261838 0.33008357 0.32729805]\n",
      " [0.35654596 0.32869081 0.31476323]\n",
      " [0.37883008 0.31058496 0.31058496]\n",
      " [0.36211699 0.3189415  0.3189415 ]\n",
      " [0.35097493 0.33426184 0.31476323]\n",
      " [0.34401114 0.33844011 0.31754875]\n",
      " [0.34401114 0.33286908 0.32311978]\n",
      " [0.3718663  0.3356546  0.29247911]\n",
      " [0.36629526 0.32729805 0.30640669]\n",
      " [0.34679666 0.33983287 0.31337047]\n",
      " [0.3454039  0.3356546  0.3189415 ]\n",
      " [0.35933148 0.32033426 0.32033426]\n",
      " [0.33844011 0.33426184 0.32729805]\n",
      " [0.3551532  0.32590529 0.3189415 ]\n",
      " [0.34818942 0.33426184 0.31754875]\n",
      " [0.3551532  0.32869081 0.31615599]\n",
      " [0.34958217 0.33704735 0.31337047]\n",
      " [0.33983287 0.33704735 0.32311978]\n",
      " [0.34818942 0.33426184 0.31754875]\n",
      " [0.35097493 0.3454039  0.30362117]\n",
      " [0.35376045 0.32451253 0.32172702]\n",
      " [0.33983287 0.33008357 0.33008357]\n",
      " [0.36350975 0.33426184 0.30222841]\n",
      " [0.33844011 0.33286908 0.32869081]\n",
      " [0.36350975 0.32451253 0.31197772]\n",
      " [0.34818942 0.3454039  0.30640669]\n",
      " [0.33983287 0.33147632 0.32869081]\n",
      " [0.3454039  0.33426184 0.32033426]\n",
      " [0.37047354 0.31754875 0.31197772]\n",
      " [0.3551532  0.33008357 0.31476323]\n",
      " [0.35236769 0.34261838 0.30501393]\n",
      " [0.35097493 0.33286908 0.31615599]\n",
      " [0.36350975 0.33286908 0.30362117]\n",
      " [0.35933148 0.32869081 0.31197772]\n",
      " [0.3454039  0.33704735 0.31754875]\n",
      " [0.34958217 0.34401114 0.30640669]\n",
      " [0.35236769 0.32451253 0.32311978]\n",
      " [0.34679666 0.3356546  0.31754875]\n",
      " [0.34679666 0.33844011 0.31476323]\n",
      " [0.35376045 0.3356546  0.31058496]\n",
      " [0.35933148 0.32590529 0.31476323]\n",
      " [0.35097493 0.34122563 0.30779944]\n",
      " [0.34958217 0.33426184 0.31615599]\n",
      " [0.33704735 0.33704735 0.32590529]\n",
      " [0.36211699 0.32451253 0.31337047]\n",
      " [0.36211699 0.32590529 0.31197772]\n",
      " [0.34401114 0.33147632 0.32451253]\n",
      " [0.3718663  0.32033426 0.30779944]\n",
      " [0.34818942 0.33426184 0.31754875]\n",
      " [0.33844011 0.33426184 0.32729805]\n",
      " [0.34679666 0.32729805 0.32590529]\n",
      " [0.33704735 0.33147632 0.33147632]\n",
      " [0.34818942 0.32869081 0.32311978]\n",
      " [0.36490251 0.32033426 0.31476323]\n",
      " [0.34679666 0.3454039  0.30779944]\n",
      " [0.35933148 0.34958217 0.29108635]\n",
      " [0.38300836 0.32033426 0.29665738]\n",
      " [0.35236769 0.32729805 0.32033426]\n",
      " [0.34679666 0.33286908 0.32033426]\n",
      " [0.34122563 0.33704735 0.32172702]\n",
      " [0.34261838 0.33983287 0.31754875]\n",
      " [0.34818942 0.33704735 0.31476323]\n",
      " [0.35376045 0.35236769 0.29387187]\n",
      " [0.34818942 0.33983287 0.31197772]\n",
      " [0.34261838 0.33426184 0.32311978]\n",
      " [0.3454039  0.3356546  0.3189415 ]\n",
      " [0.34122563 0.33286908 0.32590529]\n",
      " [0.34958217 0.33008357 0.32033426]\n",
      " [0.37325905 0.32869081 0.29805014]\n",
      " [0.33983287 0.33426184 0.32590529]\n",
      " [0.35654596 0.33426184 0.3091922 ]\n",
      " [0.36072423 0.33844011 0.30083565]\n",
      " [0.34261838 0.33983287 0.31754875]\n",
      " [0.36490251 0.33286908 0.30222841]\n",
      " [0.33844011 0.33704735 0.32451253]\n",
      " [0.35654596 0.32590529 0.31754875]]\n",
      "[[ 0.02321263  0.00510678 -0.02831941]\n",
      " [ 0.0176416   0.01624884 -0.03389044]\n",
      " [ 0.00510678  0.00371402 -0.0088208 ]\n",
      " [ 0.03296193 -0.01160631 -0.02135562]\n",
      " [ 0.02042711 -0.00046425 -0.01996286]\n",
      " [ 0.0371402  -0.01717734 -0.01996286]\n",
      " [ 0.02321263  0.01346332 -0.03667595]\n",
      " [ 0.00510678  0.00232126 -0.00742804]\n",
      " [ 0.02181987 -0.00742804 -0.01439183]\n",
      " [ 0.01346332  0.01346332 -0.02692665]\n",
      " [ 0.02042711  0.00649954 -0.02692665]\n",
      " [ 0.02599814  0.00371402 -0.02971216]\n",
      " [ 0.01485608 -0.00603528 -0.0088208 ]\n",
      " [ 0.01067781 -0.00046425 -0.01021356]\n",
      " [ 0.05106778 -0.01717734 -0.03389044]\n",
      " [ 0.00649954 -0.00046425 -0.00603528]\n",
      " [ 0.02042711  0.00789229 -0.02831941]\n",
      " [ 0.01485608 -0.00464253 -0.01021356]\n",
      " [ 0.00789229  0.00649954 -0.01439183]\n",
      " [ 0.0371402  -0.00324977 -0.03389044]\n",
      " [ 0.00092851 -0.00046425 -0.00046425]\n",
      " [ 0.01346332 -0.00046425 -0.01299907]\n",
      " [ 0.01346332  0.01067781 -0.02414113]\n",
      " [ 0.02460539 -0.01160631 -0.01299907]\n",
      " [ 0.00928505 -0.00324977 -0.00603528]\n",
      " [ 0.02321263 -0.00464253 -0.0185701 ]\n",
      " [ 0.04549675 -0.02274838 -0.02274838]\n",
      " [ 0.02878366 -0.01439183 -0.01439183]\n",
      " [ 0.0176416   0.00092851 -0.0185701 ]\n",
      " [ 0.01067781  0.00510678 -0.01578459]\n",
      " [ 0.01067781 -0.00046425 -0.01021356]\n",
      " [ 0.03853296  0.00232126 -0.04085422]\n",
      " [ 0.03296193 -0.00603528 -0.02692665]\n",
      " [ 0.01346332  0.00649954 -0.01996286]\n",
      " [ 0.01207057  0.00232126 -0.01439183]\n",
      " [ 0.02599814 -0.01299907 -0.01299907]\n",
      " [ 0.00510678  0.00092851 -0.00603528]\n",
      " [ 0.02181987 -0.00742804 -0.01439183]\n",
      " [ 0.01485608  0.00092851 -0.01578459]\n",
      " [ 0.02181987 -0.00464253 -0.01717734]\n",
      " [ 0.01624884  0.00371402 -0.01996286]\n",
      " [ 0.00649954  0.00371402 -0.01021356]\n",
      " [ 0.01485608  0.00092851 -0.01578459]\n",
      " [ 0.0176416   0.01207057 -0.02971216]\n",
      " [ 0.02042711 -0.0088208  -0.01160631]\n",
      " [ 0.00649954 -0.00324977 -0.00324977]\n",
      " [ 0.03017642  0.00092851 -0.03110492]\n",
      " [ 0.00510678 -0.00046425 -0.00464253]\n",
      " [ 0.03017642 -0.0088208  -0.02135562]\n",
      " [ 0.01485608  0.01207057 -0.02692665]\n",
      " [ 0.00649954 -0.00185701 -0.00464253]\n",
      " [ 0.01207057  0.00092851 -0.01299907]\n",
      " [ 0.0371402  -0.01578459 -0.02135562]\n",
      " [ 0.02181987 -0.00324977 -0.0185701 ]\n",
      " [ 0.01903435  0.00928505 -0.02831941]\n",
      " [ 0.0176416  -0.00046425 -0.01717734]\n",
      " [ 0.03017642 -0.00046425 -0.02971216]\n",
      " [ 0.02599814 -0.00464253 -0.02135562]\n",
      " [ 0.01207057  0.00371402 -0.01578459]\n",
      " [ 0.01624884  0.01067781 -0.02692665]\n",
      " [ 0.01903435 -0.0088208  -0.01021356]\n",
      " [ 0.01346332  0.00232126 -0.01578459]\n",
      " [ 0.01346332  0.00510678 -0.0185701 ]\n",
      " [ 0.02042711  0.00232126 -0.02274838]\n",
      " [ 0.02599814 -0.00742804 -0.0185701 ]\n",
      " [ 0.0176416   0.00789229 -0.02553389]\n",
      " [ 0.01624884  0.00092851 -0.01717734]\n",
      " [ 0.00371402  0.00371402 -0.00742804]\n",
      " [ 0.02878366 -0.0088208  -0.01996286]\n",
      " [ 0.02878366 -0.00742804 -0.02135562]\n",
      " [ 0.01067781 -0.00185701 -0.0088208 ]\n",
      " [ 0.03853296 -0.01299907 -0.02553389]\n",
      " [ 0.01485608  0.00092851 -0.01578459]\n",
      " [ 0.00510678  0.00092851 -0.00603528]\n",
      " [ 0.01346332 -0.00603528 -0.00742804]\n",
      " [ 0.00371402 -0.00185701 -0.00185701]\n",
      " [ 0.01485608 -0.00464253 -0.01021356]\n",
      " [ 0.03156917 -0.01299907 -0.0185701 ]\n",
      " [ 0.01346332  0.01207057 -0.02553389]\n",
      " [ 0.02599814  0.01624884 -0.04224698]\n",
      " [ 0.04967502 -0.01299907 -0.03667595]\n",
      " [ 0.01903435 -0.00603528 -0.01299907]\n",
      " [ 0.01346332 -0.00046425 -0.01299907]\n",
      " [ 0.00789229  0.00371402 -0.01160631]\n",
      " [ 0.00928505  0.00649954 -0.01578459]\n",
      " [ 0.01485608  0.00371402 -0.0185701 ]\n",
      " [ 0.02042711  0.01903435 -0.03946147]\n",
      " [ 0.01485608  0.00649954 -0.02135562]\n",
      " [ 0.00928505  0.00092851 -0.01021356]\n",
      " [ 0.01207057  0.00232126 -0.01439183]\n",
      " [ 0.00789229 -0.00046425 -0.00742804]\n",
      " [ 0.01624884 -0.00324977 -0.01299907]\n",
      " [ 0.03992572 -0.00464253 -0.03528319]\n",
      " [ 0.00649954  0.00092851 -0.00742804]\n",
      " [ 0.02321263  0.00092851 -0.02414113]\n",
      " [ 0.0273909   0.00510678 -0.03249768]\n",
      " [ 0.00928505  0.00649954 -0.01578459]\n",
      " [ 0.03156917 -0.00046425 -0.03110492]\n",
      " [ 0.00510678  0.00371402 -0.0088208 ]\n",
      " [ 0.02321263 -0.00742804 -0.01578459]]\n"
     ]
    },
    {
     "data": {
      "text/html": [
       "<div>\n",
       "<style scoped>\n",
       "    .dataframe tbody tr th:only-of-type {\n",
       "        vertical-align: middle;\n",
       "    }\n",
       "\n",
       "    .dataframe tbody tr th {\n",
       "        vertical-align: top;\n",
       "    }\n",
       "\n",
       "    .dataframe thead th {\n",
       "        text-align: right;\n",
       "    }\n",
       "</style>\n",
       "<table border=\"1\" class=\"dataframe\">\n",
       "  <thead>\n",
       "    <tr style=\"text-align: right;\">\n",
       "      <th></th>\n",
       "      <th>0</th>\n",
       "      <th>1</th>\n",
       "      <th>2</th>\n",
       "    </tr>\n",
       "  </thead>\n",
       "  <tbody>\n",
       "    <tr>\n",
       "      <th>0</th>\n",
       "      <td>0.356546</td>\n",
       "      <td>0.338440</td>\n",
       "      <td>0.305014</td>\n",
       "    </tr>\n",
       "    <tr>\n",
       "      <th>1</th>\n",
       "      <td>0.350975</td>\n",
       "      <td>0.349582</td>\n",
       "      <td>0.299443</td>\n",
       "    </tr>\n",
       "    <tr>\n",
       "      <th>2</th>\n",
       "      <td>0.338440</td>\n",
       "      <td>0.337047</td>\n",
       "      <td>0.324513</td>\n",
       "    </tr>\n",
       "    <tr>\n",
       "      <th>3</th>\n",
       "      <td>0.366295</td>\n",
       "      <td>0.321727</td>\n",
       "      <td>0.311978</td>\n",
       "    </tr>\n",
       "    <tr>\n",
       "      <th>4</th>\n",
       "      <td>0.353760</td>\n",
       "      <td>0.332869</td>\n",
       "      <td>0.313370</td>\n",
       "    </tr>\n",
       "    <tr>\n",
       "      <th>...</th>\n",
       "      <td>...</td>\n",
       "      <td>...</td>\n",
       "      <td>...</td>\n",
       "    </tr>\n",
       "    <tr>\n",
       "      <th>95</th>\n",
       "      <td>0.360724</td>\n",
       "      <td>0.338440</td>\n",
       "      <td>0.300836</td>\n",
       "    </tr>\n",
       "    <tr>\n",
       "      <th>96</th>\n",
       "      <td>0.342618</td>\n",
       "      <td>0.339833</td>\n",
       "      <td>0.317549</td>\n",
       "    </tr>\n",
       "    <tr>\n",
       "      <th>97</th>\n",
       "      <td>0.364903</td>\n",
       "      <td>0.332869</td>\n",
       "      <td>0.302228</td>\n",
       "    </tr>\n",
       "    <tr>\n",
       "      <th>98</th>\n",
       "      <td>0.338440</td>\n",
       "      <td>0.337047</td>\n",
       "      <td>0.324513</td>\n",
       "    </tr>\n",
       "    <tr>\n",
       "      <th>99</th>\n",
       "      <td>0.356546</td>\n",
       "      <td>0.325905</td>\n",
       "      <td>0.317549</td>\n",
       "    </tr>\n",
       "  </tbody>\n",
       "</table>\n",
       "<p>100 rows × 3 columns</p>\n",
       "</div>"
      ],
      "text/plain": [
       "           0         1         2\n",
       "0   0.356546  0.338440  0.305014\n",
       "1   0.350975  0.349582  0.299443\n",
       "2   0.338440  0.337047  0.324513\n",
       "3   0.366295  0.321727  0.311978\n",
       "4   0.353760  0.332869  0.313370\n",
       "..       ...       ...       ...\n",
       "95  0.360724  0.338440  0.300836\n",
       "96  0.342618  0.339833  0.317549\n",
       "97  0.364903  0.332869  0.302228\n",
       "98  0.338440  0.337047  0.324513\n",
       "99  0.356546  0.325905  0.317549\n",
       "\n",
       "[100 rows x 3 columns]"
      ]
     },
     "execution_count": 177,
     "metadata": {},
     "output_type": "execute_result"
    }
   ],
   "source": [
    "valid_reasons = ['home', 'reputation', 'course']\n",
    "reasons_df = hw_df[(hw_df['school'] == 'GP') & (hw_df['reason'].isin(valid_reasons))]\n",
    "reasons_series = reasons_df['reason']\n",
    "av= run_reasons_simulations(valid_reasons, 100, reasons_series.size)\n",
    "print(av)\n",
    "print(av-1/3)\n",
    "pd.DataFrame(av)"
   ]
  },
  {
   "cell_type": "markdown",
   "metadata": {},
   "source": [
    "### Question 3\n",
    "**Null hypothesis -** there is no difference in the final grades in math courses between students who are involved in romantic relationship and those who are not.\n",
    "**Alternative hypothesis -** there is a difference in the final grades in math courses between students who are involved in romantic relationship and those who are not.<br>\n",
    "**Test statistic -** the difference in the final grade in math courses between between students who are involved in romantic relationship and those who are not.\n",
    "\n",
    "We will use the bootstrap method on our dataset to estimate the difference in the final grade in math courses between students who are involved in romantic relationship and those who are not with confidence of 95%."
   ]
  },
  {
   "cell_type": "code",
   "execution_count": 20,
   "metadata": {},
   "outputs": [],
   "source": [
    "#filter the students that don't take math courses\n",
    "math_students_df = hw_df[hw_df['class'] == 'Math']\n",
    "\n",
    "#calculate the difference in the averages of the final grade in maths courses\n",
    "#between students who are involved in romantic relationship and those who are not \n",
    "def differences_in_means(sample, column_name, grouping_var):\n",
    "    group_by_variable = sample.groupby(grouping_var)\n",
    "    means = group_by_variable[column_name].mean()\n",
    "    return means[1] - means[0]\n",
    "\n",
    "def bootstrap_difference_in_final_math_grade_means(original_sample, column_name, grouping_var, num_replications):\n",
    "    original_sample_size = original_sample.shape[0]\n",
    "    bootstrap_difference_means = np.empty(num_replications)\n",
    "    for i in range(num_replications):\n",
    "        bootstrap_sample = original_sample.sample(original_sample_size, replace=True)\n",
    "        bootstrap_difference_means[i] = differences_in_means(bootstrap_sample, column_name, grouping_var)\n",
    "    return bootstrap_difference_means\n",
    "\n",
    "bootstrap_difference_means = bootstrap_difference_in_final_math_grade_means(math_students_df, 'G3','romantic', 10000)"
   ]
  },
  {
   "cell_type": "code",
   "execution_count": 34,
   "metadata": {},
   "outputs": [
    {
     "name": "stdout",
     "output_type": "stream",
     "text": [
      "lower value:  -2.2453653217012004\n",
      "upper value:  -0.3038295863574678\n"
     ]
    },
    {
     "data": {
      "image/png": "[encoded data removed]",
      "text/plain": [
       "<Figure size 432x288 with 1 Axes>"
      ]
     },
     "metadata": {
      "needs_background": "light"
     },
     "output_type": "display_data"
    }
   ],
   "source": [
    "bootstrap_difference_means\n",
    "\n",
    "#visualize the results\n",
    "fig, axes = plt.subplots()\n",
    "sns_ax = sns.distplot(bootstrap_difference_means, kde=False, ax=axes);\n",
    "sns_ax.set(xlabel='difference between final grade mean', ylabel='Number of simulations');\n",
    "fig.suptitle('Bootstrap difference distribution (10000 simulations)')\n",
    "plt.hlines(y=0, xmin=left_end, xmax=right_end, colors='orange', linestyles='solid', lw=8)  # show line of values between 2.5 and 97.5 percentiles\n",
    "\n",
    "\n",
    "# 95% confidence interval for the gross difference in averages of the final grade in maths courses\n",
    "# between students who are involved in romantic relationship and those who are not \n",
    "left_end = np.percentile(bootstrap_difference_means, 2.5, interpolation='higher')\n",
    "right_end =  np.percentile(bootstrap_difference_means, 97.5, interpolation='higher')\n",
    "print(f\"lower value: {left_end}\")\n",
    "print(f\"upper value: {right_end}\")"
   ]
  },
  {
   "cell_type": "markdown",
   "metadata": {},
   "source": [
    "Zero is not included in the 95% CI for the difference between the means, and therefore we reject the null hypothesis and conclude at the 95% confidence level that the there is a difference between the mean final grade in math courses of students who are involved in romantic relationship and those who are not, <br>\n",
    "and it lies between 0.303 and 2.245 in favor of the students who are ont invlolved in a romatic relationship.\n"
   ]
  },
  {
   "cell_type": "markdown",
   "metadata": {},
   "source": [
    "### Question 4\n"
   ]
  },
  {
   "cell_type": "code",
   "execution_count": 256,
   "metadata": {},
   "outputs": [],
   "source": [
    "def bootstrap_mean(original_sample, num_replications):\n",
    "    '''\n",
    "    Performs a given number of bootstraps on a given sample, and returns an array\n",
    "    containing the mean of each bootsrap.\n",
    "    '''\n",
    "    original_sample_size = original_sample.size # Replicate with the same sample size\n",
    "    bootstrap_means = np.empty(num_replications)\n",
    "    for bootstrap in range(num_replications):\n",
    "        bootstrap_sample = original_sample.sample(original_sample_size, replace=True)  # Sampling with replacement\n",
    "        resampled_mean = bootstrap_sample.mean()\n",
    "        bootstrap_means[bootstrap] = resampled_mean\n",
    "    \n",
    "    return bootstrap_means"
   ]
  },
  {
   "cell_type": "code",
   "execution_count": 257,
   "metadata": {},
   "outputs": [],
   "source": [
    "# Get the final grades of the females in Portuguese course\n",
    "female_portuguese_df = hw_df[(hw_df['sex'] == 'F') & (hw_df['class'] == 'Portuguese')]\n",
    "female_portuguese_grades = female_portuguese_df['G3']"
   ]
  },
  {
   "cell_type": "code",
   "execution_count": 261,
   "metadata": {},
   "outputs": [],
   "source": [
    "# Bootstrapping\n",
    "num_replications = 10000\n",
    "bootstrap_means = bootstrap_mean(female_portuguese_grades, num_replications)"
   ]
  },
  {
   "cell_type": "code",
   "execution_count": 262,
   "metadata": {},
   "outputs": [
    {
     "name": "stdout",
     "output_type": "stream",
     "text": [
      "lower value: 11.929503916449086\n",
      "upper value: 12.556135770234986\n"
     ]
    }
   ],
   "source": [
    "# Create 95% confidence interval for the mean based on our sample\n",
    "left_end = np.percentile(bootstrap_means, 2.5, interpolation='higher')\n",
    "right_end =  np.percentile(bootstrap_means, 97.5, interpolation='higher')\n",
    "\n",
    "# Print the bounds of the interval\n",
    "print(f\"lower value: {left_end}\")\n",
    "print(f\"upper value: {right_end}\")"
   ]
  },
  {
   "cell_type": "code",
   "execution_count": 270,
   "metadata": {},
   "outputs": [
    {
     "data": {
      "image/png": "[encoded data removed]",
      "text/plain": [
       "<Figure size 576x360 with 1 Axes>"
      ]
     },
     "metadata": {
      "needs_background": "light"
     },
     "output_type": "display_data"
    }
   ],
   "source": [
    "# Set the size of the plot\n",
    "plt.figure(figsize=(8, 5))\n",
    "\n",
    "# Visualize the results\n",
    "ax = sns.distplot(bootstrap_means, kde=False);\n",
    "plt.hlines(y=0, xmin=left_end, xmax=right_end, colors='orange', linestyles='solid', lw=10)  # Show line of values between 2.5 and 97.5 percentiles\n",
    "sample_mean = female_portuguese_grades.mean()  # Get the mean of the sample\n",
    "plt.scatter(x=sample_mean, y=25, marker='o', s=30, color='red')  # Draw the mean of the sample\n",
    "\n",
    "# Set the title and the axes lables\n",
    "ax.set(title=f'Boptstrapped means of females in portuguese class ({num_replications} simulation)',\n",
    "       xlabel='Mean final grade', ylabel='Number of bootstraps')\n",
    "\n",
    "# Clear the output and show the plot\n",
    "plt.show()"
   ]
  },
  {
   "cell_type": "markdown",
   "metadata": {},
   "source": [
    "### Question 5\n",
    "Using bootstrap method to compute a confidence interval for the maximum value of a variable is problematic because<br>\n",
    "the bootstrap method relies on a smaller sample than the real sample space, the smaller sample may not contain the maximum value of the real sample and because we use the data from the smaller sample in bootstrap we will never calculate a maximum value that is bigger than the maximum of the smaller sample, thus we will not be able to estimate the maximum value of the real sample space."
   ]
  },
  {
   "cell_type": "markdown",
   "metadata": {},
   "source": [
    "### Question 6\n",
    "\n",
    "**a)**<br>\n",
    "Based on the first graph, it seems that there is a discrimination against the hispanic population because they are given less disabillity expenditure than white people who were not hispanic,\n",
    "but when we divide the given expenditure by age groups we see a different picture,\n",
    "on the second graph we can see that there is no discrimination and there are even age groups where the hispanic population are given more expenditure than white people.<br>\n",
    "this phenomenon is called the simpson paradox and it can be the result of not considering an important variable when studying a relationship.<br>\n",
    "the difference in the first graph can be caused by a factor such as the population number for each age group, <br>\n",
    "maybe in this case there were more white people who were adults, and thats why overall it seems that they were given more expenditure.<br>\n",
    "\n",
    "In conclusion, we think that there is no discrimination against the hispanic population."
   ]
  }
 ],
 "metadata": {
  "kernelspec": {
   "display_name": "Python 3",
   "language": "python",
   "name": "python3"
  },
  "language_info": {
   "codemirror_mode": {
    "name": "ipython",
    "version": 3
   },
   "file_extension": ".py",
   "mimetype": "text/x-python",
   "name": "python",
   "nbconvert_exporter": "python",
   "pygments_lexer": "ipython3",
   "version": "3.7.6"
  }
 },
 "nbformat": 4,
 "nbformat_minor": 4
}
