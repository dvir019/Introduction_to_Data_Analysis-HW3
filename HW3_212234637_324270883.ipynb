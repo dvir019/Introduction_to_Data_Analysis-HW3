{
 "cells": [
  {
   "cell_type": "markdown",
   "metadata": {},
   "source": [
    "# Introduction to Data Analasys\n",
    "## HW 3\n",
    "##### Presenters:\n",
    "Roi Maskalik, 212234637 <br>\n",
    "Dvir Twito, 324270883"
   ]
  },
  {
   "cell_type": "code",
   "execution_count": 2,
   "metadata": {},
   "outputs": [],
   "source": [
    "import pandas as pd\n",
    "import seaborn as sns\n",
    "import numpy as np\n",
    "import matplotlib.pyplot as plt\n",
    "hw_df = pd.read_csv('HW3_Data.csv')"
   ]
  },
  {
   "cell_type": "markdown",
   "metadata": {},
   "source": [
    "### Question 1\n",
    "**Null hypothesis -** the communities served by the two public schools in this dataset come from a simple random sample of the Portugal population.<br>\n",
    "**Alternative hypothesis -** the communities served by the two public schools in this dataset do not come from a simple random sample of the Portugal population.<br>\n",
    "**Statisic -** The probability that a citizen in Portugal which was eligible for study in public schools in 2005 had internet access at home.\n",
    "\n",
    "We will run simulations according to the assumption of our model which is:<br>\n",
    "0.81 of the population in Portugal which was eligible for study in public schools in 2005 had internet access at home. <br>\n",
    "we will check if our test statistic from our observed data is consistent with the distribution of the statistic from our model."
   ]
  },
  {
   "cell_type": "code",
   "execution_count": 8,
   "metadata": {},
   "outputs": [
    {
     "name": "stdout",
     "output_type": "stream",
     "text": [
      "the statistic value of out observed data is  0.7921455938697318\n"
     ]
    },
    {
     "data": {
      "image/png": "[encoded data removed]",
      "text/plain": [
       "<Figure size 432x288 with 1 Axes>"
      ]
     },
     "metadata": {
      "needs_background": "light"
     },
     "output_type": "display_data"
    }
   ],
   "source": [
    "#first, we will calculate the statistic\n",
    "question1_statistic = hw_df['internet'].apply(lambda x: 1 if x =='yes' else 0).mean()\n",
    "print('the statistic value of out observed data is ', question1_statistic)\n",
    "\n",
    "internet_status = ['has_internet', \"doesn't have internet\"] #possible options for having internet connection\n",
    "prob_for_internet = [0.81, 0.19] # probabilities GIVEN THE MODEL IS TRUE\n",
    "sample_size = hw_df.shape[0] #the size of our sample should be equal to the size of our dataset\n",
    "\n",
    "#simulate one value of the distrubution of internet access\n",
    "def prob_has_internet():\n",
    "    sample_internet = np.random.choice(internet_status, p = prob_for_internet, size = sample_size)\n",
    "    num_has_internet = np.count_nonzero(sample_internet == 'has_internet')\n",
    "    return num_has_internet / sample_size\n",
    "\n",
    "#run multiple simulations and return an array that contains the data of the simulations\n",
    "def run_internet_simulations(num_simulations):\n",
    "    many_prob_internet = np.empty(num_simulations)\n",
    "    for i in range(num_simulations):\n",
    "        many_prob_internet[i] = prob_has_internet()\n",
    "    return many_prob_internet\n",
    "\n",
    "num_simulations = 10000\n",
    "many_prob_internet = run_internet_simulations(num_simulations)\n",
    "ax = sns.distplot(many_prob_internet, kde=False, norm_hist=True)\n",
    "ax.set(xlabel='probability to have internet connection', ylabel='relative proportion in simulations (%)')\n",
    "plt.scatter(question1_statistic, 0, marker='o', s=30, color='red')  # draw observed value\n",
    "plt.show()"
   ]
  },
  {
   "cell_type": "code",
   "execution_count": 9,
   "metadata": {},
   "outputs": [
    {
     "name": "stdout",
     "output_type": "stream",
     "text": [
      "Our p-value is :  0.0773\n"
     ]
    }
   ],
   "source": [
    "num_simulations_like_question1_statistic_or_more_extreme = np.count_nonzero(many_prob_internet <= question1_statistic)\n",
    "print('Our p-value is : ', num_simulations_like_question1_statistic_or_more_extreme/num_simulations)\n"
   ]
  },
  {
   "cell_type": "markdown",
   "metadata": {},
   "source": [
    "Our p-value is higher than the required significance level which is 0.05, thus we can not reject the null hypothesis."
   ]
  },
  {
   "cell_type": "markdown",
   "metadata": {},
   "source": [
    "### Question 3\n",
    "**Null hypothesis -** there is no difference in the final grades in math courses between students who are involved in romantic relationship and those who are not.\n",
    "**Alternative hypothesis -** there is a difference in the final grades in math courses between students who are involved in romantic relationship and those who are not.<br>\n",
    "**Statistic -** the difference in the final grade in math courses between between students who are involved in romantic relationship and those who are not.\n",
    "\n",
    "We will use the bootstrap method on our dataset to estimate the difference in the final grade in math courses between students who are involved in romantic relationship and those who are not with confidence of 95%."
   ]
  },
  {
   "cell_type": "code",
   "execution_count": 20,
   "metadata": {},
   "outputs": [],
   "source": [
    "#filter the students that don't take math courses\n",
    "math_students_df = hw_df[hw_df['class'] == 'Math']\n",
    "\n",
    "#calculate the difference in the averages of the final grade in maths courses\n",
    "#between students who are involved in romantic relationship and those who are not \n",
    "def differences_in_means(sample, column_name, grouping_var):\n",
    "    group_by_variable = sample.groupby(grouping_var)\n",
    "    means = group_by_variable[column_name].mean()\n",
    "    return means[1] - means[0]\n",
    "\n",
    "def bootstrap_difference_in_final_math_grade_means(original_sample, column_name, grouping_var, num_replications):\n",
    "    original_sample_size = original_sample.shape[0]\n",
    "    bootstrap_difference_means = np.empty(num_replications)\n",
    "    for i in range(num_replications):\n",
    "        bootstrap_sample = original_sample.sample(original_sample_size, replace = True)\n",
    "        bootstrap_difference_means[i] = differences_in_means(bootstrap_sample, column_name, grouping_var)\n",
    "    return bootstrap_difference_means\n",
    "\n",
    "bootstrap_difference_means = bootstrap_difference_in_final_math_grade_means(math_students_df, 'G3','romantic', 10000)"
   ]
  },
  {
   "cell_type": "code",
   "execution_count": 34,
   "metadata": {},
   "outputs": [
    {
     "name": "stdout",
     "output_type": "stream",
     "text": [
      "lower value:  -2.2453653217012004\n",
      "upper value:  -0.3038295863574678\n"
     ]
    },
    {
     "data": {
      "image/png": "[encoded data removed]",
      "text/plain": [
       "<Figure size 432x288 with 1 Axes>"
      ]
     },
     "metadata": {
      "needs_background": "light"
     },
     "output_type": "display_data"
    }
   ],
   "source": [
    "bootstrap_difference_means\n",
    "\n",
    "#visualize the results\n",
    "fig, axes = plt.subplots()\n",
    "sns_ax = sns.distplot(bootstrap_difference_means, kde=False, ax=axes);\n",
    "sns_ax.set(xlabel='difference between final grade mean', ylabel='Number of simulations');\n",
    "fig.suptitle('Bootstrap difference distribution (10000 simulations)')\n",
    "plt.hlines(y=0, xmin=left_end, xmax=right_end, colors='orange', linestyles='solid', lw=8)  # show line of values between 2.5 and 97.5 percentiles\n",
    "\n",
    "\n",
    "# 95% confidence interval for the gross difference in averages of the final grade in maths courses\n",
    "# between students who are involved in romantic relationship and those who are not \n",
    "left_end = np.percentile(bootstrap_difference_means, 2.5, interpolation='higher')\n",
    "right_end =  np.percentile(bootstrap_difference_means, 97.5, interpolation='higher')\n",
    "print('lower value: ', left_end)\n",
    "print('upper value: ', right_end)"
   ]
  },
  {
   "cell_type": "markdown",
   "metadata": {},
   "source": [
    "Zero is not included in the 95% CI for the difference between the means, and therefore we reject the null hypothesis and conclude at the 95% confidence level that the there is a difference between the mean final grade in math courses of students who are involved in romantic relationship and those who are not, <br>\n",
    "and it lies between 0.303 and 2.245 in favor of the students who are ont invlolved in a romatic relationship.\n"
   ]
  },
  {
   "cell_type": "markdown",
   "metadata": {},
   "source": [
    "### Question 5\n",
    "Using bootstrap method to compute a confidence interval for the maximum value of a variable is problematic because<br>\n",
    "the bootstrap method relies on a smaller sample than the real sample space, the smaller sample may not contain the maximum value of the real sample and because we use the data from the smaller sample in bootstrap we will never calculate a maximum value that is bigger than the maximum of the smaller sample, thus we will not be able to estimate the maximum value of the real sample space."
   ]
  },
  {
   "cell_type": "markdown",
   "metadata": {},
   "source": [
    "### Question 6\n",
    "\n",
    "**a)**<br>\n",
    "Based on the first graph, it seems that there is a discrimination against the hispanic population because they are given less disabillity expenditure than white people who were not hispanic,\n",
    "but when we divide the given expenditure by age groups we see a different picture,\n",
    "on the second graph we can see that there is no discrimination and there are even age groups where the hispanic population are given more expenditure than white people.<br>\n",
    "this phenomenon is called the simpson paradox and it can be the result of not considering an important variable when studying a relationship.<br>\n",
    "the difference in the first graph can be caused by a factor such as the population number for each age group, <br>\n",
    "maybe in this case there were more white people who were adults, and thats why overall it seems that they were given more expenditure.<br>\n",
    "\n",
    "In conclusion, we think that there is no discrimination against the hispanic population."
   ]
  }
 ],
 "metadata": {
  "kernelspec": {
   "display_name": "Python 3",
   "language": "python",
   "name": "python3"
  },
  "language_info": {
   "codemirror_mode": {
    "name": "ipython",
    "version": 3
   },
   "file_extension": ".py",
   "mimetype": "text/x-python",
   "name": "python",
   "nbconvert_exporter": "python",
   "pygments_lexer": "ipython3",
   "version": "3.7.6"
  }
 },
 "nbformat": 4,
 "nbformat_minor": 4
}
